{
 "cells": [
  {
   "cell_type": "code",
   "execution_count": 1,
   "metadata": {},
   "outputs": [
    {
     "name": "stderr",
     "output_type": "stream",
     "text": [
      "2024-02-12 16:42:24.241722: I tensorflow/core/util/port.cc:113] oneDNN custom operations are on. You may see slightly different numerical results due to floating-point round-off errors from different computation orders. To turn them off, set the environment variable `TF_ENABLE_ONEDNN_OPTS=0`.\n",
      "2024-02-12 16:42:24.302758: E external/local_xla/xla/stream_executor/cuda/cuda_dnn.cc:9261] Unable to register cuDNN factory: Attempting to register factory for plugin cuDNN when one has already been registered\n",
      "2024-02-12 16:42:24.302790: E external/local_xla/xla/stream_executor/cuda/cuda_fft.cc:607] Unable to register cuFFT factory: Attempting to register factory for plugin cuFFT when one has already been registered\n",
      "2024-02-12 16:42:24.305562: E external/local_xla/xla/stream_executor/cuda/cuda_blas.cc:1515] Unable to register cuBLAS factory: Attempting to register factory for plugin cuBLAS when one has already been registered\n",
      "2024-02-12 16:42:24.315364: I tensorflow/core/platform/cpu_feature_guard.cc:182] This TensorFlow binary is optimized to use available CPU instructions in performance-critical operations.\n",
      "To enable the following instructions: AVX2 AVX_VNNI FMA, in other operations, rebuild TensorFlow with the appropriate compiler flags.\n",
      "2024-02-12 16:42:24.984617: W tensorflow/compiler/tf2tensorrt/utils/py_utils.cc:38] TF-TRT Warning: Could not find TensorRT\n"
     ]
    }
   ],
   "source": [
    "import tensorflow as tf\n",
    "import tensorflow_hub as hub\n",
    "import tensorflow_text as text\n",
    "\n",
    "import pandas as pd"
   ]
  },
  {
   "cell_type": "code",
   "execution_count": 2,
   "metadata": {},
   "outputs": [
    {
     "data": {
      "text/html": [
       "<div>\n",
       "<style scoped>\n",
       "    .dataframe tbody tr th:only-of-type {\n",
       "        vertical-align: middle;\n",
       "    }\n",
       "\n",
       "    .dataframe tbody tr th {\n",
       "        vertical-align: top;\n",
       "    }\n",
       "\n",
       "    .dataframe thead th {\n",
       "        text-align: right;\n",
       "    }\n",
       "</style>\n",
       "<table border=\"1\" class=\"dataframe\">\n",
       "  <thead>\n",
       "    <tr style=\"text-align: right;\">\n",
       "      <th></th>\n",
       "      <th>split</th>\n",
       "      <th>V</th>\n",
       "      <th>A</th>\n",
       "      <th>D</th>\n",
       "      <th>text</th>\n",
       "    </tr>\n",
       "    <tr>\n",
       "      <th>id</th>\n",
       "      <th></th>\n",
       "      <th></th>\n",
       "      <th></th>\n",
       "      <th></th>\n",
       "      <th></th>\n",
       "    </tr>\n",
       "  </thead>\n",
       "  <tbody>\n",
       "    <tr>\n",
       "      <th>110CYL068_1036_1079</th>\n",
       "      <td>train</td>\n",
       "      <td>3.00</td>\n",
       "      <td>3.00</td>\n",
       "      <td>3.20</td>\n",
       "      <td>Remember what she said in my last letter? \"</td>\n",
       "    </tr>\n",
       "    <tr>\n",
       "      <th>110CYL068_1079_1110</th>\n",
       "      <td>test</td>\n",
       "      <td>2.80</td>\n",
       "      <td>3.10</td>\n",
       "      <td>2.80</td>\n",
       "      <td>If I wasn't working here.</td>\n",
       "    </tr>\n",
       "    <tr>\n",
       "      <th>110CYL068_1127_1130</th>\n",
       "      <td>train</td>\n",
       "      <td>3.00</td>\n",
       "      <td>3.00</td>\n",
       "      <td>3.00</td>\n",
       "      <td>..\"</td>\n",
       "    </tr>\n",
       "    <tr>\n",
       "      <th>110CYL068_1137_1188</th>\n",
       "      <td>train</td>\n",
       "      <td>3.44</td>\n",
       "      <td>3.00</td>\n",
       "      <td>3.22</td>\n",
       "      <td>Goodwill helps people get off of public assist...</td>\n",
       "    </tr>\n",
       "    <tr>\n",
       "      <th>110CYL068_1189_1328</th>\n",
       "      <td>train</td>\n",
       "      <td>3.55</td>\n",
       "      <td>3.27</td>\n",
       "      <td>3.46</td>\n",
       "      <td>Sherry learned through our Future Works class ...</td>\n",
       "    </tr>\n",
       "    <tr>\n",
       "      <th>110CYL068_1475_1558</th>\n",
       "      <td>train</td>\n",
       "      <td>3.60</td>\n",
       "      <td>3.30</td>\n",
       "      <td>3.80</td>\n",
       "      <td>Coming to Goodwill was the first step toward m...</td>\n",
       "    </tr>\n",
       "    <tr>\n",
       "      <th>110CYL068_1559_1601</th>\n",
       "      <td>train</td>\n",
       "      <td>3.00</td>\n",
       "      <td>3.00</td>\n",
       "      <td>3.10</td>\n",
       "      <td>I am now... totally off of welfare.\"</td>\n",
       "    </tr>\n",
       "    <tr>\n",
       "      <th>110CYL068_1608_1658</th>\n",
       "      <td>train</td>\n",
       "      <td>3.10</td>\n",
       "      <td>3.10</td>\n",
       "      <td>3.10</td>\n",
       "      <td>Goodwill prepares people for life-long employm...</td>\n",
       "    </tr>\n",
       "    <tr>\n",
       "      <th>110CYL068_163_275</th>\n",
       "      <td>train</td>\n",
       "      <td>3.25</td>\n",
       "      <td>2.88</td>\n",
       "      <td>3.00</td>\n",
       "      <td>Here's another story of success from what migh...</td>\n",
       "    </tr>\n",
       "    <tr>\n",
       "      <th>110CYL068_1659_1810</th>\n",
       "      <td>train</td>\n",
       "      <td>3.25</td>\n",
       "      <td>3.00</td>\n",
       "      <td>3.25</td>\n",
       "      <td>Cornell found a number of employment options t...</td>\n",
       "    </tr>\n",
       "  </tbody>\n",
       "</table>\n",
       "</div>"
      ],
      "text/plain": [
       "                     split     V     A     D  \\\n",
       "id                                             \n",
       "110CYL068_1036_1079  train  3.00  3.00  3.20   \n",
       "110CYL068_1079_1110   test  2.80  3.10  2.80   \n",
       "110CYL068_1127_1130  train  3.00  3.00  3.00   \n",
       "110CYL068_1137_1188  train  3.44  3.00  3.22   \n",
       "110CYL068_1189_1328  train  3.55  3.27  3.46   \n",
       "110CYL068_1475_1558  train  3.60  3.30  3.80   \n",
       "110CYL068_1559_1601  train  3.00  3.00  3.10   \n",
       "110CYL068_1608_1658  train  3.10  3.10  3.10   \n",
       "110CYL068_163_275    train  3.25  2.88  3.00   \n",
       "110CYL068_1659_1810  train  3.25  3.00  3.25   \n",
       "\n",
       "                                                                  text  \n",
       "id                                                                      \n",
       "110CYL068_1036_1079        Remember what she said in my last letter? \"  \n",
       "110CYL068_1079_1110                          If I wasn't working here.  \n",
       "110CYL068_1127_1130                                                ..\"  \n",
       "110CYL068_1137_1188  Goodwill helps people get off of public assist...  \n",
       "110CYL068_1189_1328  Sherry learned through our Future Works class ...  \n",
       "110CYL068_1475_1558  Coming to Goodwill was the first step toward m...  \n",
       "110CYL068_1559_1601               I am now... totally off of welfare.\"  \n",
       "110CYL068_1608_1658  Goodwill prepares people for life-long employm...  \n",
       "110CYL068_163_275    Here's another story of success from what migh...  \n",
       "110CYL068_1659_1810  Cornell found a number of employment options t...  "
      ]
     },
     "execution_count": 2,
     "metadata": {},
     "output_type": "execute_result"
    }
   ],
   "source": [
    "df = pd.read_csv(\"emobank.csv\", index_col=\"id\")\n",
    "df = df.dropna()\n",
    "df.head(10)"
   ]
  },
  {
   "cell_type": "code",
   "execution_count": 3,
   "metadata": {},
   "outputs": [
    {
     "name": "stderr",
     "output_type": "stream",
     "text": [
      "2024-02-12 16:42:25.948288: I external/local_xla/xla/stream_executor/cuda/cuda_executor.cc:901] successful NUMA node read from SysFS had negative value (-1), but there must be at least one NUMA node, so returning NUMA node zero. See more at https://github.com/torvalds/linux/blob/v6.0/Documentation/ABI/testing/sysfs-bus-pci#L344-L355\n",
      "2024-02-12 16:42:25.991984: I external/local_xla/xla/stream_executor/cuda/cuda_executor.cc:901] successful NUMA node read from SysFS had negative value (-1), but there must be at least one NUMA node, so returning NUMA node zero. See more at https://github.com/torvalds/linux/blob/v6.0/Documentation/ABI/testing/sysfs-bus-pci#L344-L355\n",
      "2024-02-12 16:42:25.992243: I external/local_xla/xla/stream_executor/cuda/cuda_executor.cc:901] successful NUMA node read from SysFS had negative value (-1), but there must be at least one NUMA node, so returning NUMA node zero. See more at https://github.com/torvalds/linux/blob/v6.0/Documentation/ABI/testing/sysfs-bus-pci#L344-L355\n",
      "2024-02-12 16:42:25.993497: I external/local_xla/xla/stream_executor/cuda/cuda_executor.cc:901] successful NUMA node read from SysFS had negative value (-1), but there must be at least one NUMA node, so returning NUMA node zero. See more at https://github.com/torvalds/linux/blob/v6.0/Documentation/ABI/testing/sysfs-bus-pci#L344-L355\n",
      "2024-02-12 16:42:25.993865: I external/local_xla/xla/stream_executor/cuda/cuda_executor.cc:901] successful NUMA node read from SysFS had negative value (-1), but there must be at least one NUMA node, so returning NUMA node zero. See more at https://github.com/torvalds/linux/blob/v6.0/Documentation/ABI/testing/sysfs-bus-pci#L344-L355\n",
      "2024-02-12 16:42:25.994074: I external/local_xla/xla/stream_executor/cuda/cuda_executor.cc:901] successful NUMA node read from SysFS had negative value (-1), but there must be at least one NUMA node, so returning NUMA node zero. See more at https://github.com/torvalds/linux/blob/v6.0/Documentation/ABI/testing/sysfs-bus-pci#L344-L355\n",
      "2024-02-12 16:42:26.032358: I external/local_xla/xla/stream_executor/cuda/cuda_executor.cc:901] successful NUMA node read from SysFS had negative value (-1), but there must be at least one NUMA node, so returning NUMA node zero. See more at https://github.com/torvalds/linux/blob/v6.0/Documentation/ABI/testing/sysfs-bus-pci#L344-L355\n",
      "2024-02-12 16:42:26.032484: I external/local_xla/xla/stream_executor/cuda/cuda_executor.cc:901] successful NUMA node read from SysFS had negative value (-1), but there must be at least one NUMA node, so returning NUMA node zero. See more at https://github.com/torvalds/linux/blob/v6.0/Documentation/ABI/testing/sysfs-bus-pci#L344-L355\n",
      "2024-02-12 16:42:26.032560: I external/local_xla/xla/stream_executor/cuda/cuda_executor.cc:901] successful NUMA node read from SysFS had negative value (-1), but there must be at least one NUMA node, so returning NUMA node zero. See more at https://github.com/torvalds/linux/blob/v6.0/Documentation/ABI/testing/sysfs-bus-pci#L344-L355\n",
      "2024-02-12 16:42:26.032617: I tensorflow/core/common_runtime/gpu/gpu_device.cc:1929] Created device /job:localhost/replica:0/task:0/device:GPU:0 with 3360 MB memory:  -> device: 0, name: NVIDIA GeForce RTX 3060 Laptop GPU, pci bus id: 0000:01:00.0, compute capability: 8.6\n"
     ]
    }
   ],
   "source": [
    "bert_preprocess = hub.KerasLayer(\n",
    "    \"https://tfhub.dev/tensorflow/bert_en_uncased_preprocess/3\"\n",
    ")\n",
    "bert_encoder = hub.KerasLayer(\n",
    "    \"https://tfhub.dev/tensorflow/bert_en_uncased_L-12_H-768_A-12/3\"\n",
    ")"
   ]
  },
  {
   "cell_type": "code",
   "execution_count": 4,
   "metadata": {},
   "outputs": [],
   "source": [
    "train_data = df[(df[\"split\"] == \"train\")]\n",
    "dev_data = df[df[\"split\"] == \"dev\"]\n",
    "test_data = df[df[\"split\"] == \"test\"]"
   ]
  },
  {
   "cell_type": "code",
   "execution_count": 5,
   "metadata": {},
   "outputs": [],
   "source": [
    "X_train = train_data[\"text\"]\n",
    "y_train = train_data[[\"V\", \"A\", \"D\"]]\n",
    "X_dev = dev_data[\"text\"]\n",
    "y_dev = dev_data[[\"V\", \"A\", \"D\"]]\n",
    "X_test = test_data[\"text\"]\n",
    "y_test = test_data[[\"V\", \"A\", \"D\"]]"
   ]
  },
  {
   "cell_type": "code",
   "execution_count": 6,
   "metadata": {},
   "outputs": [],
   "source": [
    "text_input = tf.keras.layers.Input(shape=(), dtype=tf.string, name=\"text\")\n",
    "preprocessed_text = bert_preprocess(text_input)\n",
    "outputs = bert_encoder(preprocessed_text)\n",
    "l = tf.keras.layers.Dropout(0.1, name=\"dropout\")(outputs[\"pooled_output\"])\n",
    "output = tf.keras.layers.Dense(3, activation=\"linear\", name=\"output\")(l)\n",
    "model = tf.keras.Model(inputs=[text_input], outputs=output)"
   ]
  },
  {
   "cell_type": "code",
   "execution_count": 7,
   "metadata": {},
   "outputs": [],
   "source": [
    "early_stopping = tf.keras.callbacks.EarlyStopping(monitor=\"val_loss\", patience=3)"
   ]
  },
  {
   "cell_type": "code",
   "execution_count": 8,
   "metadata": {},
   "outputs": [],
   "source": [
    "model.compile(optimizer=\"adam\", loss=\"mean_squared_error\")"
   ]
  },
  {
   "cell_type": "code",
   "execution_count": 9,
   "metadata": {},
   "outputs": [
    {
     "name": "stdout",
     "output_type": "stream",
     "text": [
      "Epoch 1/10\n"
     ]
    },
    {
     "name": "stderr",
     "output_type": "stream",
     "text": [
      "2024-02-12 16:42:34.308521: I external/local_tsl/tsl/platform/default/subprocess.cc:304] Start cannot spawn child process: No such file or directory\n"
     ]
    },
    {
     "name": "stdout",
     "output_type": "stream",
     "text": [
      "  1/252 [..............................] - ETA: 20:40 - loss: 15.7526"
     ]
    },
    {
     "name": "stderr",
     "output_type": "stream",
     "text": [
      "2024-02-12 16:42:35.953333: I external/local_xla/xla/service/service.cc:168] XLA service 0x7f8e06657be0 initialized for platform CUDA (this does not guarantee that XLA will be used). Devices:\n",
      "2024-02-12 16:42:35.953356: I external/local_xla/xla/service/service.cc:176]   StreamExecutor device (0): NVIDIA GeForce RTX 3060 Laptop GPU, Compute Capability 8.6\n",
      "2024-02-12 16:42:35.956714: I tensorflow/compiler/mlir/tensorflow/utils/dump_mlir_util.cc:269] disabling MLIR crash reproducer, set env var `MLIR_CRASH_REPRODUCER_DIRECTORY` to enable.\n",
      "2024-02-12 16:42:35.969259: I external/local_xla/xla/stream_executor/cuda/cuda_dnn.cc:454] Loaded cuDNN version 8904\n",
      "WARNING: All log messages before absl::InitializeLog() is called are written to STDERR\n",
      "I0000 00:00:1707736356.029438   24249 device_compiler.h:186] Compiled cluster using XLA!  This line is logged at most once for the lifetime of the process.\n"
     ]
    },
    {
     "name": "stdout",
     "output_type": "stream",
     "text": [
      "252/252 [==============================] - 180s 698ms/step - loss: 0.6154 - val_loss: 0.1153\n",
      "Epoch 2/10\n",
      "252/252 [==============================] - 175s 695ms/step - loss: 0.1831 - val_loss: 0.0868\n",
      "Epoch 3/10\n",
      "252/252 [==============================] - 171s 679ms/step - loss: 0.1588 - val_loss: 0.0845\n",
      "Epoch 4/10\n",
      "252/252 [==============================] - 183s 726ms/step - loss: 0.1433 - val_loss: 0.0729\n",
      "Epoch 5/10\n",
      "252/252 [==============================] - 191s 758ms/step - loss: 0.1297 - val_loss: 0.0719\n",
      "Epoch 6/10\n",
      "252/252 [==============================] - 191s 760ms/step - loss: 0.1204 - val_loss: 0.0777\n",
      "Epoch 7/10\n",
      "252/252 [==============================] - 182s 722ms/step - loss: 0.1097 - val_loss: 0.0679\n",
      "Epoch 8/10\n",
      "252/252 [==============================] - 173s 685ms/step - loss: 0.1022 - val_loss: 0.0641\n",
      "Epoch 9/10\n",
      "252/252 [==============================] - 168s 666ms/step - loss: 0.0943 - val_loss: 0.0678\n",
      "Epoch 10/10\n",
      " 45/252 [====>.........................] - ETA: 2:01 - loss: 0.0925"
     ]
    }
   ],
   "source": [
    "history = model.fit(\n",
    "    X_train,\n",
    "    y_train,\n",
    "    validation_data=(X_dev, y_dev),\n",
    "    epochs=10,\n",
    "    batch_size=32,\n",
    "    callbacks=[early_stopping],\n",
    ")"
   ]
  },
  {
   "cell_type": "code",
   "execution_count": null,
   "metadata": {},
   "outputs": [
    {
     "name": "stdout",
     "output_type": "stream",
     "text": [
      "\n",
      "loss = [0.6055861711502075, 0.301457941532135, 0.2586796283721924, 0.2359689176082611, 0.22238411009311676, 0.20686794817447662, 0.20147627592086792, 0.1894906610250473, 0.18470416963100433]\n",
      "\n",
      "value loss = [0.1069352999329567, 0.08140023052692413, 0.07504323869943619, 0.08290749788284302, 0.07285863906145096, 0.07257340103387833, 0.07348567992448807, 0.07373587042093277, 0.07576337456703186]\n"
     ]
    }
   ],
   "source": [
    "history_dict = history.history\n",
    "\n",
    "\n",
    "loss = history_dict[\"loss\"]\n",
    "val_loss = history_dict[\"val_loss\"]\n",
    "\n",
    "\n",
    "print(f\"\\nloss = {loss}\")\n",
    "print(f\"\\nvalue loss = {val_loss}\")"
   ]
  },
  {
   "cell_type": "code",
   "execution_count": null,
   "metadata": {},
   "outputs": [
    {
     "name": "stdout",
     "output_type": "stream",
     "text": [
      "32/32 [==============================] - 8s 237ms/step\n"
     ]
    }
   ],
   "source": [
    "# Predict the values for the test set\n",
    "y_pred = model.predict(X_test)\n",
    "\n",
    "# Calculate the metrics"
   ]
  },
  {
   "cell_type": "code",
   "execution_count": null,
   "metadata": {},
   "outputs": [],
   "source": [
    "from sklearn.metrics import r2_score"
   ]
  },
  {
   "cell_type": "code",
   "execution_count": null,
   "metadata": {},
   "outputs": [
    {
     "name": "stdout",
     "output_type": "stream",
     "text": [
      "Mean Squared Error (MSE): 0.07853340357542038\n",
      "Root Mean Squared Error (RMSE): 0.2802381217479706\n",
      "Mean Absolute Error (MAE): 0.21462373435497284\n",
      "R-squared (R²): -0.03501497006868548\n"
     ]
    }
   ],
   "source": [
    "y_test_array = y_test.to_numpy().flatten()\n",
    "y_pred_array = y_pred.flatten()\n",
    "\n",
    "# Calculate the metrics\n",
    "mse = tf.keras.losses.mean_squared_error(y_test_array, y_pred_array)\n",
    "rmse = tf.sqrt(mse)\n",
    "mae = tf.keras.losses.mean_absolute_error(y_test_array, y_pred_array)\n",
    "r2 = r2_score(y_test_array, y_pred_array)\n",
    "\n",
    "print(f\"Mean Squared Error (MSE): {mse.numpy()}\")\n",
    "print(f\"Root Mean Squared Error (RMSE): {rmse.numpy()}\")\n",
    "print(f\"Mean Absolute Error (MAE): {mae.numpy()}\")\n",
    "print(f\"R-squared (R²): {r2}\")"
   ]
  },
  {
   "cell_type": "code",
   "execution_count": null,
   "metadata": {},
   "outputs": [
    {
     "name": "stdout",
     "output_type": "stream",
     "text": [
      "252/252 [==============================] - 56s 224ms/step\n"
     ]
    }
   ],
   "source": [
    "import numpy as np"
   ]
  },
  {
   "cell_type": "code",
   "execution_count": null,
   "metadata": {},
   "outputs": [
    {
     "name": "stdout",
     "output_type": "stream",
     "text": [
      "INFO:tensorflow:Assets written to: text_emotion/assets\n"
     ]
    },
    {
     "name": "stderr",
     "output_type": "stream",
     "text": [
      "INFO:tensorflow:Assets written to: text_emotion/assets\n"
     ]
    }
   ],
   "source": [
    "model.save(\"text_emotion\")"
   ]
  },
  {
   "cell_type": "code",
   "execution_count": null,
   "metadata": {},
   "outputs": [
    {
     "name": "stdout",
     "output_type": "stream",
     "text": [
      "Remember what she said in my last letter? \"\n"
     ]
    },
    {
     "name": "stderr",
     "output_type": "stream",
     "text": [
      "/tmp/ipykernel_4488/39969900.py:1: FutureWarning: Series.__getitem__ treating keys as positions is deprecated. In a future version, integer keys will always be treated as labels (consistent with DataFrame behavior). To access a value by position, use `ser.iloc[pos]`\n",
      "  print(X_train[0])\n"
     ]
    }
   ],
   "source": [
    "print(X_train[0])"
   ]
  },
  {
   "cell_type": "code",
   "execution_count": null,
   "metadata": {},
   "outputs": [
    {
     "name": "stdout",
     "output_type": "stream",
     "text": [
      "1/1 [==============================] - 0s 31ms/step\n",
      "Valance = 58.06051254272461 %\n",
      "Arusal = 59.74236011505128 %\n",
      "Dominance = 59.27917480468749 %\n"
     ]
    }
   ],
   "source": [
    "prediction = model.predict([\"Remember what she said in my last letter? \"])\n",
    "V = prediction[0][0] / 5 * 100\n",
    "A = prediction[0][1] / 5 * 100\n",
    "D = prediction[0][2] / 5 * 100\n",
    "print(f\"Valance = {V} %\\nArusal = {A} %\\nDominance = {D} %\")"
   ]
  }
 ],
 "metadata": {
  "kernelspec": {
   "display_name": "Python 3",
   "language": "python",
   "name": "python3"
  },
  "language_info": {
   "codemirror_mode": {
    "name": "ipython",
    "version": 3
   },
   "file_extension": ".py",
   "mimetype": "text/x-python",
   "name": "python",
   "nbconvert_exporter": "python",
   "pygments_lexer": "ipython3",
   "version": "3.9.18"
  }
 },
 "nbformat": 4,
 "nbformat_minor": 2
}
